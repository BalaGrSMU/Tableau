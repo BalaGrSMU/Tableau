{
 "cells": [
  {
   "cell_type": "code",
   "execution_count": 1,
   "metadata": {},
   "outputs": [],
   "source": [
    "import datetime as dt\n",
    "from datetime import datetime\n",
    "import time\n",
    "import numpy as np\n",
    "import pandas as pd"
   ]
  },
  {
   "cell_type": "code",
   "execution_count": 2,
   "metadata": {},
   "outputs": [],
   "source": [
    "csv_file = \"201909-citibike-tripdata.csv\"\n",
    "Sep_data = pd.read_csv(csv_file, encoding =\"ISO-8859-1\")\n",
    "count_nan = len(Sep_data) - Sep_data.count()\n",
    "count_nan\n",
    "sepdata=Sep_data.dropna()"
   ]
  },
  {
   "cell_type": "code",
   "execution_count": 3,
   "metadata": {},
   "outputs": [],
   "source": [
    "csv_file = \"201908-citibike-tripdata.csv\"\n",
    "Aug_data = pd.read_csv(csv_file, encoding =\"ISO-8859-1\")\n",
    "count_nan1 = len(Aug_data) - Aug_data.count()\n",
    "count_nan1\n",
    "augdata=Aug_data.dropna()"
   ]
  },
  {
   "cell_type": "code",
   "execution_count": 4,
   "metadata": {},
   "outputs": [],
   "source": [
    "csv_file = \"201907-citibike-tripdata.csv\"\n",
    "Jul_data = pd.read_csv(csv_file, encoding =\"ISO-8859-1\")\n",
    "count_nan2 = len(Jul_data) - Jul_data.count()\n",
    "count_nan2\n",
    "juldata= Jul_data.dropna()"
   ]
  },
  {
   "cell_type": "code",
   "execution_count": 5,
   "metadata": {},
   "outputs": [
    {
     "data": {
      "text/plain": [
       "tripduration               2181010\n",
       "starttime                  2181010\n",
       "stoptime                   2181010\n",
       "start station id           2181010\n",
       "start station name         2181010\n",
       "start station latitude     2181010\n",
       "start station longitude    2181010\n",
       "end station id             2181010\n",
       "end station name           2181010\n",
       "end station latitude       2181010\n",
       "end station longitude      2181010\n",
       "bikeid                     2181010\n",
       "usertype                   2181010\n",
       "birth year                 2181010\n",
       "gender                     2181010\n",
       "dtype: int64"
      ]
     },
     "execution_count": 5,
     "metadata": {},
     "output_type": "execute_result"
    }
   ],
   "source": [
    "combined_data = juldata\n",
    "combined_data.count()"
   ]
  },
  {
   "cell_type": "code",
   "execution_count": 6,
   "metadata": {},
   "outputs": [
    {
     "data": {
      "text/plain": [
       "tripduration               4525145\n",
       "starttime                  4525145\n",
       "stoptime                   4525145\n",
       "start station id           4525145\n",
       "start station name         4525145\n",
       "start station latitude     4525145\n",
       "start station longitude    4525145\n",
       "end station id             4525145\n",
       "end station name           4525145\n",
       "end station latitude       4525145\n",
       "end station longitude      4525145\n",
       "bikeid                     4525145\n",
       "usertype                   4525145\n",
       "birth year                 4525145\n",
       "gender                     4525145\n",
       "dtype: int64"
      ]
     },
     "execution_count": 6,
     "metadata": {},
     "output_type": "execute_result"
    }
   ],
   "source": [
    "cumdata=combined_data.append(augdata)\n",
    "cumdata.count()"
   ]
  },
  {
   "cell_type": "code",
   "execution_count": 7,
   "metadata": {},
   "outputs": [
    {
     "data": {
      "text/plain": [
       "tripduration               6970045\n",
       "starttime                  6970045\n",
       "stoptime                   6970045\n",
       "start station id           6970045\n",
       "start station name         6970045\n",
       "start station latitude     6970045\n",
       "start station longitude    6970045\n",
       "end station id             6970045\n",
       "end station name           6970045\n",
       "end station latitude       6970045\n",
       "end station longitude      6970045\n",
       "bikeid                     6970045\n",
       "usertype                   6970045\n",
       "birth year                 6970045\n",
       "gender                     6970045\n",
       "dtype: int64"
      ]
     },
     "execution_count": 7,
     "metadata": {},
     "output_type": "execute_result"
    }
   ],
   "source": [
    "finaldata=cumdata.append(sepdata)\n",
    "finaldata.count()"
   ]
  },
  {
   "cell_type": "code",
   "execution_count": 8,
   "metadata": {},
   "outputs": [
    {
     "data": {
      "text/html": [
       "<div>\n",
       "<style scoped>\n",
       "    .dataframe tbody tr th:only-of-type {\n",
       "        vertical-align: middle;\n",
       "    }\n",
       "\n",
       "    .dataframe tbody tr th {\n",
       "        vertical-align: top;\n",
       "    }\n",
       "\n",
       "    .dataframe thead th {\n",
       "        text-align: right;\n",
       "    }\n",
       "</style>\n",
       "<table border=\"1\" class=\"dataframe\">\n",
       "  <thead>\n",
       "    <tr style=\"text-align: right;\">\n",
       "      <th></th>\n",
       "      <th>tripduration</th>\n",
       "      <th>starttime</th>\n",
       "      <th>stoptime</th>\n",
       "      <th>start station id</th>\n",
       "      <th>start station name</th>\n",
       "      <th>start station latitude</th>\n",
       "      <th>start station longitude</th>\n",
       "      <th>end station id</th>\n",
       "      <th>end station name</th>\n",
       "      <th>end station latitude</th>\n",
       "      <th>end station longitude</th>\n",
       "      <th>bikeid</th>\n",
       "      <th>usertype</th>\n",
       "      <th>birth year</th>\n",
       "      <th>gender</th>\n",
       "    </tr>\n",
       "  </thead>\n",
       "  <tbody>\n",
       "    <tr>\n",
       "      <th>0</th>\n",
       "      <td>897</td>\n",
       "      <td>2019-07-01 00:00:00.1320</td>\n",
       "      <td>2019-07-01 00:14:58.0040</td>\n",
       "      <td>493.0</td>\n",
       "      <td>W 45 St &amp; 6 Ave</td>\n",
       "      <td>40.756800</td>\n",
       "      <td>-73.982912</td>\n",
       "      <td>454.0</td>\n",
       "      <td>E 51 St &amp; 1 Ave</td>\n",
       "      <td>40.754557</td>\n",
       "      <td>-73.965930</td>\n",
       "      <td>18340</td>\n",
       "      <td>Subscriber</td>\n",
       "      <td>1966</td>\n",
       "      <td>1</td>\n",
       "    </tr>\n",
       "    <tr>\n",
       "      <th>1</th>\n",
       "      <td>267</td>\n",
       "      <td>2019-07-01 00:00:05.1780</td>\n",
       "      <td>2019-07-01 00:04:32.4500</td>\n",
       "      <td>3143.0</td>\n",
       "      <td>5 Ave &amp; E 78 St</td>\n",
       "      <td>40.776321</td>\n",
       "      <td>-73.964274</td>\n",
       "      <td>3226.0</td>\n",
       "      <td>W 82 St &amp; Central Park West</td>\n",
       "      <td>40.782750</td>\n",
       "      <td>-73.971370</td>\n",
       "      <td>21458</td>\n",
       "      <td>Customer</td>\n",
       "      <td>1996</td>\n",
       "      <td>1</td>\n",
       "    </tr>\n",
       "    <tr>\n",
       "      <th>2</th>\n",
       "      <td>2201</td>\n",
       "      <td>2019-07-01 00:00:05.2130</td>\n",
       "      <td>2019-07-01 00:36:46.7490</td>\n",
       "      <td>317.0</td>\n",
       "      <td>E 6 St &amp; Avenue B</td>\n",
       "      <td>40.724537</td>\n",
       "      <td>-73.981854</td>\n",
       "      <td>3469.0</td>\n",
       "      <td>India St &amp; West St</td>\n",
       "      <td>40.731814</td>\n",
       "      <td>-73.959950</td>\n",
       "      <td>39874</td>\n",
       "      <td>Subscriber</td>\n",
       "      <td>1986</td>\n",
       "      <td>1</td>\n",
       "    </tr>\n",
       "    <tr>\n",
       "      <th>3</th>\n",
       "      <td>1660</td>\n",
       "      <td>2019-07-01 00:00:08.6010</td>\n",
       "      <td>2019-07-01 00:27:48.8050</td>\n",
       "      <td>249.0</td>\n",
       "      <td>Harrison St &amp; Hudson St</td>\n",
       "      <td>40.718710</td>\n",
       "      <td>-74.009001</td>\n",
       "      <td>369.0</td>\n",
       "      <td>Washington Pl &amp; 6 Ave</td>\n",
       "      <td>40.732241</td>\n",
       "      <td>-74.000264</td>\n",
       "      <td>38865</td>\n",
       "      <td>Subscriber</td>\n",
       "      <td>1988</td>\n",
       "      <td>1</td>\n",
       "    </tr>\n",
       "    <tr>\n",
       "      <th>4</th>\n",
       "      <td>109</td>\n",
       "      <td>2019-07-01 00:00:12.1580</td>\n",
       "      <td>2019-07-01 00:02:01.5670</td>\n",
       "      <td>3552.0</td>\n",
       "      <td>W 113 St &amp; Broadway</td>\n",
       "      <td>40.805973</td>\n",
       "      <td>-73.964928</td>\n",
       "      <td>3538.0</td>\n",
       "      <td>W 110 St &amp; Amsterdam Ave</td>\n",
       "      <td>40.802692</td>\n",
       "      <td>-73.962950</td>\n",
       "      <td>30256</td>\n",
       "      <td>Subscriber</td>\n",
       "      <td>1997</td>\n",
       "      <td>1</td>\n",
       "    </tr>\n",
       "  </tbody>\n",
       "</table>\n",
       "</div>"
      ],
      "text/plain": [
       "   tripduration                 starttime                  stoptime  \\\n",
       "0           897  2019-07-01 00:00:00.1320  2019-07-01 00:14:58.0040   \n",
       "1           267  2019-07-01 00:00:05.1780  2019-07-01 00:04:32.4500   \n",
       "2          2201  2019-07-01 00:00:05.2130  2019-07-01 00:36:46.7490   \n",
       "3          1660  2019-07-01 00:00:08.6010  2019-07-01 00:27:48.8050   \n",
       "4           109  2019-07-01 00:00:12.1580  2019-07-01 00:02:01.5670   \n",
       "\n",
       "   start station id       start station name  start station latitude  \\\n",
       "0             493.0          W 45 St & 6 Ave               40.756800   \n",
       "1            3143.0          5 Ave & E 78 St               40.776321   \n",
       "2             317.0        E 6 St & Avenue B               40.724537   \n",
       "3             249.0  Harrison St & Hudson St               40.718710   \n",
       "4            3552.0      W 113 St & Broadway               40.805973   \n",
       "\n",
       "   start station longitude  end station id             end station name  \\\n",
       "0               -73.982912           454.0              E 51 St & 1 Ave   \n",
       "1               -73.964274          3226.0  W 82 St & Central Park West   \n",
       "2               -73.981854          3469.0           India St & West St   \n",
       "3               -74.009001           369.0        Washington Pl & 6 Ave   \n",
       "4               -73.964928          3538.0     W 110 St & Amsterdam Ave   \n",
       "\n",
       "   end station latitude  end station longitude  bikeid    usertype  \\\n",
       "0             40.754557             -73.965930   18340  Subscriber   \n",
       "1             40.782750             -73.971370   21458    Customer   \n",
       "2             40.731814             -73.959950   39874  Subscriber   \n",
       "3             40.732241             -74.000264   38865  Subscriber   \n",
       "4             40.802692             -73.962950   30256  Subscriber   \n",
       "\n",
       "   birth year  gender  \n",
       "0        1966       1  \n",
       "1        1996       1  \n",
       "2        1986       1  \n",
       "3        1988       1  \n",
       "4        1997       1  "
      ]
     },
     "execution_count": 8,
     "metadata": {},
     "output_type": "execute_result"
    }
   ],
   "source": [
    "finaldata.head()"
   ]
  },
  {
   "cell_type": "code",
   "execution_count": 9,
   "metadata": {},
   "outputs": [
    {
     "data": {
      "text/plain": [
       "1    4583305\n",
       "2    1759205\n",
       "0     627535\n",
       "Name: gender, dtype: int64"
      ]
     },
     "execution_count": 9,
     "metadata": {},
     "output_type": "execute_result"
    }
   ],
   "source": [
    "finaldata.gender.value_counts()"
   ]
  },
  {
   "cell_type": "code",
   "execution_count": 10,
   "metadata": {},
   "outputs": [],
   "source": [
    "finaldata['gender'] = np.where(finaldata['gender'] == 0, \"Unknown\",finaldata['gender'])"
   ]
  },
  {
   "cell_type": "code",
   "execution_count": 11,
   "metadata": {},
   "outputs": [
    {
     "data": {
      "text/plain": [
       "1          4583305\n",
       "2          1759205\n",
       "Unknown     627535\n",
       "Name: gender, dtype: int64"
      ]
     },
     "execution_count": 11,
     "metadata": {},
     "output_type": "execute_result"
    }
   ],
   "source": [
    "finaldata.gender.value_counts()"
   ]
  },
  {
   "cell_type": "code",
   "execution_count": 12,
   "metadata": {},
   "outputs": [],
   "source": [
    "finaldata['gender'].mask(finaldata['gender'] == '1', 'Male', inplace=True)"
   ]
  },
  {
   "cell_type": "code",
   "execution_count": 13,
   "metadata": {},
   "outputs": [],
   "source": [
    "finaldata['gender'].mask(finaldata['gender'] == '2', 'Female', inplace=True)"
   ]
  },
  {
   "cell_type": "code",
   "execution_count": 14,
   "metadata": {},
   "outputs": [
    {
     "data": {
      "text/plain": [
       "Male       4583305\n",
       "Female     1759205\n",
       "Unknown     627535\n",
       "Name: gender, dtype: int64"
      ]
     },
     "execution_count": 14,
     "metadata": {},
     "output_type": "execute_result"
    }
   ],
   "source": [
    "finaldata.gender.value_counts()"
   ]
  },
  {
   "cell_type": "code",
   "execution_count": 15,
   "metadata": {},
   "outputs": [],
   "source": [
    "finaldata.to_csv(\"2019_Jul_Sep.csv\",encoding='utf-8')"
   ]
  },
  {
   "cell_type": "code",
   "execution_count": 16,
   "metadata": {},
   "outputs": [
    {
     "data": {
      "text/plain": [
       "tripduration               1877168\n",
       "starttime                  1877168\n",
       "stoptime                   1877168\n",
       "start station id           1877168\n",
       "start station name         1877168\n",
       "start station latitude     1877168\n",
       "start station longitude    1877168\n",
       "end station id             1877168\n",
       "end station name           1877168\n",
       "end station latitude       1877168\n",
       "end station longitude      1877168\n",
       "bikeid                     1877168\n",
       "usertype                   1877168\n",
       "birth year                 1877168\n",
       "gender                     1877168\n",
       "dtype: int64"
      ]
     },
     "execution_count": 16,
     "metadata": {},
     "output_type": "execute_result"
    }
   ],
   "source": [
    "csv_file = \"201809-citibike-tripdata.csv\"\n",
    "Sep18_data = pd.read_csv(csv_file, encoding =\"ISO-8859-1\")\n",
    "count_nan = len(Sep18_data) - Sep18_data.count()\n",
    "count_nan\n",
    "sep18data=Sep18_data.dropna()\n",
    "sep18data.count()"
   ]
  },
  {
   "cell_type": "code",
   "execution_count": 17,
   "metadata": {},
   "outputs": [
    {
     "data": {
      "text/plain": [
       "tripduration               1975789\n",
       "starttime                  1975789\n",
       "stoptime                   1975789\n",
       "start station id           1975789\n",
       "start station name         1975789\n",
       "start station latitude     1975789\n",
       "start station longitude    1975789\n",
       "end station id             1975789\n",
       "end station name           1975789\n",
       "end station latitude       1975789\n",
       "end station longitude      1975789\n",
       "bikeid                     1975789\n",
       "usertype                   1975789\n",
       "birth year                 1975789\n",
       "gender                     1975789\n",
       "dtype: int64"
      ]
     },
     "execution_count": 17,
     "metadata": {},
     "output_type": "execute_result"
    }
   ],
   "source": [
    "csv_file = \"201808-citibike-tripdata.csv\"\n",
    "Aug18_data = pd.read_csv(csv_file, encoding =\"ISO-8859-1\")\n",
    "aug18data=Aug18_data.dropna()\n",
    "aug18data.count()"
   ]
  },
  {
   "cell_type": "code",
   "execution_count": 18,
   "metadata": {},
   "outputs": [
    {
     "data": {
      "text/plain": [
       "tripduration               1913625\n",
       "starttime                  1913625\n",
       "stoptime                   1913625\n",
       "start station id           1913625\n",
       "start station name         1913625\n",
       "start station latitude     1913625\n",
       "start station longitude    1913625\n",
       "end station id             1913625\n",
       "end station name           1913625\n",
       "end station latitude       1913625\n",
       "end station longitude      1913625\n",
       "bikeid                     1913625\n",
       "usertype                   1913625\n",
       "birth year                 1913625\n",
       "gender                     1913625\n",
       "dtype: int64"
      ]
     },
     "execution_count": 18,
     "metadata": {},
     "output_type": "execute_result"
    }
   ],
   "source": [
    "csv_file = \"201807-citibike-tripdata.csv\"\n",
    "Jul18_data = pd.read_csv(csv_file, encoding =\"ISO-8859-1\")\n",
    "jul18data=Jul18_data.dropna()\n",
    "jul18data.count()"
   ]
  },
  {
   "cell_type": "code",
   "execution_count": 29,
   "metadata": {},
   "outputs": [],
   "source": [
    "q320181=jul18data"
   ]
  },
  {
   "cell_type": "code",
   "execution_count": 20,
   "metadata": {},
   "outputs": [],
   "source": [
    "q320182=q320181.append(aug18data)"
   ]
  },
  {
   "cell_type": "code",
   "execution_count": 21,
   "metadata": {},
   "outputs": [],
   "source": [
    "q320183=q320182.append(sep18data)"
   ]
  },
  {
   "cell_type": "code",
   "execution_count": 22,
   "metadata": {},
   "outputs": [
    {
     "data": {
      "text/plain": [
       "tripduration               5766582\n",
       "starttime                  5766582\n",
       "stoptime                   5766582\n",
       "start station id           5766582\n",
       "start station name         5766582\n",
       "start station latitude     5766582\n",
       "start station longitude    5766582\n",
       "end station id             5766582\n",
       "end station name           5766582\n",
       "end station latitude       5766582\n",
       "end station longitude      5766582\n",
       "bikeid                     5766582\n",
       "usertype                   5766582\n",
       "birth year                 5766582\n",
       "gender                     5766582\n",
       "dtype: int64"
      ]
     },
     "execution_count": 22,
     "metadata": {},
     "output_type": "execute_result"
    }
   ],
   "source": [
    "q320183.count()"
   ]
  },
  {
   "cell_type": "code",
   "execution_count": 23,
   "metadata": {},
   "outputs": [],
   "source": [
    "q320183['gender'].mask(q320183['gender'] == 2, 'Female', inplace=True)"
   ]
  },
  {
   "cell_type": "code",
   "execution_count": 24,
   "metadata": {},
   "outputs": [],
   "source": [
    "q320183['gender'].mask(q320183['gender'] == 1, 'Male', inplace=True)"
   ]
  },
  {
   "cell_type": "code",
   "execution_count": 25,
   "metadata": {},
   "outputs": [],
   "source": [
    "q320183['gender'].mask(q320183['gender'] == 0, 'Unknown', inplace=True)"
   ]
  },
  {
   "cell_type": "code",
   "execution_count": 26,
   "metadata": {},
   "outputs": [
    {
     "data": {
      "text/plain": [
       "Male       3778404\n",
       "Female     1398754\n",
       "Unknown     589424\n",
       "Name: gender, dtype: int64"
      ]
     },
     "execution_count": 26,
     "metadata": {},
     "output_type": "execute_result"
    }
   ],
   "source": [
    "q320183.gender.value_counts()"
   ]
  },
  {
   "cell_type": "code",
   "execution_count": 27,
   "metadata": {},
   "outputs": [],
   "source": [
    "q320183.to_csv(\"2018_Jul_Sep.csv\",encoding='utf-8')"
   ]
  },
  {
   "cell_type": "code",
   "execution_count": 28,
   "metadata": {},
   "outputs": [],
   "source": [
    "q3_2018_2019 = q320183"
   ]
  },
  {
   "cell_type": "code",
   "execution_count": 31,
   "metadata": {},
   "outputs": [],
   "source": [
    "df = q3_2018_2019.append(finaldata)"
   ]
  },
  {
   "cell_type": "code",
   "execution_count": 33,
   "metadata": {},
   "outputs": [
    {
     "data": {
      "text/plain": [
       "tripduration                 int64\n",
       "starttime                   object\n",
       "stoptime                    object\n",
       "start station id           float64\n",
       "start station name          object\n",
       "start station latitude     float64\n",
       "start station longitude    float64\n",
       "end station id             float64\n",
       "end station name            object\n",
       "end station latitude       float64\n",
       "end station longitude      float64\n",
       "bikeid                       int64\n",
       "usertype                    object\n",
       "birth year                   int64\n",
       "gender                      object\n",
       "dtype: object"
      ]
     },
     "execution_count": 33,
     "metadata": {},
     "output_type": "execute_result"
    }
   ],
   "source": [
    "df.dtypes"
   ]
  },
  {
   "cell_type": "code",
   "execution_count": 34,
   "metadata": {},
   "outputs": [
    {
     "data": {
      "text/plain": [
       "1969    1306871\n",
       "1989     538326\n",
       "1990     537502\n",
       "1988     520224\n",
       "1991     511942\n",
       "1992     495971\n",
       "1987     465102\n",
       "1993     459582\n",
       "1986     436179\n",
       "1985     422071\n",
       "1994     396993\n",
       "1984     386098\n",
       "1983     349791\n",
       "1982     334657\n",
       "1995     322432\n",
       "1981     305175\n",
       "1980     284890\n",
       "1979     259375\n",
       "1978     226446\n",
       "1977     215403\n",
       "1976     213502\n",
       "1975     205605\n",
       "1996     203710\n",
       "1970     198724\n",
       "1974     190210\n",
       "1971     185965\n",
       "1973     183719\n",
       "1972     180506\n",
       "1968     166906\n",
       "1967     165278\n",
       "         ...   \n",
       "1912        187\n",
       "1895        175\n",
       "1928        172\n",
       "1917        168\n",
       "1931        154\n",
       "1896        133\n",
       "1893        123\n",
       "1918        121\n",
       "1910        115\n",
       "1921        103\n",
       "1899        102\n",
       "1919         89\n",
       "1911         89\n",
       "1929         82\n",
       "1909         79\n",
       "1915         45\n",
       "1894         28\n",
       "1907         24\n",
       "1913         17\n",
       "1926         17\n",
       "1922         16\n",
       "1904          9\n",
       "1927          9\n",
       "1897          8\n",
       "1920          7\n",
       "1906          3\n",
       "1916          3\n",
       "1891          2\n",
       "1874          2\n",
       "1905          1\n",
       "Name: birth year, Length: 113, dtype: int64"
      ]
     },
     "execution_count": 34,
     "metadata": {},
     "output_type": "execute_result"
    }
   ],
   "source": [
    "df['birth year'].value_counts()"
   ]
  },
  {
   "cell_type": "code",
   "execution_count": 42,
   "metadata": {},
   "outputs": [
    {
     "data": {
      "text/html": [
       "<div>\n",
       "<style scoped>\n",
       "    .dataframe tbody tr th:only-of-type {\n",
       "        vertical-align: middle;\n",
       "    }\n",
       "\n",
       "    .dataframe tbody tr th {\n",
       "        vertical-align: top;\n",
       "    }\n",
       "\n",
       "    .dataframe thead th {\n",
       "        text-align: right;\n",
       "    }\n",
       "</style>\n",
       "<table border=\"1\" class=\"dataframe\">\n",
       "  <thead>\n",
       "    <tr style=\"text-align: right;\">\n",
       "      <th></th>\n",
       "      <th>tripduration</th>\n",
       "      <th>starttime</th>\n",
       "      <th>stoptime</th>\n",
       "      <th>start station id</th>\n",
       "      <th>start station name</th>\n",
       "      <th>start station latitude</th>\n",
       "      <th>start station longitude</th>\n",
       "      <th>end station id</th>\n",
       "      <th>end station name</th>\n",
       "      <th>end station latitude</th>\n",
       "      <th>end station longitude</th>\n",
       "      <th>bikeid</th>\n",
       "      <th>usertype</th>\n",
       "      <th>birth year</th>\n",
       "      <th>gender</th>\n",
       "    </tr>\n",
       "  </thead>\n",
       "  <tbody>\n",
       "    <tr>\n",
       "      <th>0</th>\n",
       "      <td>500</td>\n",
       "      <td>2018-07-01 00:33:51.2640</td>\n",
       "      <td>2018-07-01 00:42:12.0280</td>\n",
       "      <td>72.0</td>\n",
       "      <td>W 52 St &amp; 11 Ave</td>\n",
       "      <td>40.767272</td>\n",
       "      <td>-73.993929</td>\n",
       "      <td>3236.0</td>\n",
       "      <td>W 42 St &amp; Dyer Ave</td>\n",
       "      <td>40.758985</td>\n",
       "      <td>-73.993800</td>\n",
       "      <td>16583</td>\n",
       "      <td>Subscriber</td>\n",
       "      <td>1981</td>\n",
       "      <td>Male</td>\n",
       "    </tr>\n",
       "    <tr>\n",
       "      <th>1</th>\n",
       "      <td>455</td>\n",
       "      <td>2018-07-01 02:06:54.0270</td>\n",
       "      <td>2018-07-01 02:14:29.0900</td>\n",
       "      <td>72.0</td>\n",
       "      <td>W 52 St &amp; 11 Ave</td>\n",
       "      <td>40.767272</td>\n",
       "      <td>-73.993929</td>\n",
       "      <td>529.0</td>\n",
       "      <td>W 42 St &amp; 8 Ave</td>\n",
       "      <td>40.757570</td>\n",
       "      <td>-73.990985</td>\n",
       "      <td>31481</td>\n",
       "      <td>Subscriber</td>\n",
       "      <td>1988</td>\n",
       "      <td>Male</td>\n",
       "    </tr>\n",
       "    <tr>\n",
       "      <th>2</th>\n",
       "      <td>1080</td>\n",
       "      <td>2018-07-01 02:09:16.4640</td>\n",
       "      <td>2018-07-01 02:27:17.0290</td>\n",
       "      <td>72.0</td>\n",
       "      <td>W 52 St &amp; 11 Ave</td>\n",
       "      <td>40.767272</td>\n",
       "      <td>-73.993929</td>\n",
       "      <td>453.0</td>\n",
       "      <td>W 22 St &amp; 8 Ave</td>\n",
       "      <td>40.744751</td>\n",
       "      <td>-73.999154</td>\n",
       "      <td>25004</td>\n",
       "      <td>Subscriber</td>\n",
       "      <td>1982</td>\n",
       "      <td>Female</td>\n",
       "    </tr>\n",
       "    <tr>\n",
       "      <th>3</th>\n",
       "      <td>632</td>\n",
       "      <td>2018-07-01 02:55:04.5870</td>\n",
       "      <td>2018-07-01 03:05:36.7910</td>\n",
       "      <td>72.0</td>\n",
       "      <td>W 52 St &amp; 11 Ave</td>\n",
       "      <td>40.767272</td>\n",
       "      <td>-73.993929</td>\n",
       "      <td>465.0</td>\n",
       "      <td>Broadway &amp; W 41 St</td>\n",
       "      <td>40.755136</td>\n",
       "      <td>-73.986580</td>\n",
       "      <td>25867</td>\n",
       "      <td>Subscriber</td>\n",
       "      <td>1986</td>\n",
       "      <td>Male</td>\n",
       "    </tr>\n",
       "    <tr>\n",
       "      <th>4</th>\n",
       "      <td>1676</td>\n",
       "      <td>2018-07-01 03:24:27.4350</td>\n",
       "      <td>2018-07-01 03:52:23.7760</td>\n",
       "      <td>72.0</td>\n",
       "      <td>W 52 St &amp; 11 Ave</td>\n",
       "      <td>40.767272</td>\n",
       "      <td>-73.993929</td>\n",
       "      <td>3425.0</td>\n",
       "      <td>2 Ave &amp; E 104 St</td>\n",
       "      <td>40.789210</td>\n",
       "      <td>-73.943708</td>\n",
       "      <td>31351</td>\n",
       "      <td>Subscriber</td>\n",
       "      <td>1992</td>\n",
       "      <td>Male</td>\n",
       "    </tr>\n",
       "  </tbody>\n",
       "</table>\n",
       "</div>"
      ],
      "text/plain": [
       "   tripduration                 starttime                  stoptime  \\\n",
       "0           500  2018-07-01 00:33:51.2640  2018-07-01 00:42:12.0280   \n",
       "1           455  2018-07-01 02:06:54.0270  2018-07-01 02:14:29.0900   \n",
       "2          1080  2018-07-01 02:09:16.4640  2018-07-01 02:27:17.0290   \n",
       "3           632  2018-07-01 02:55:04.5870  2018-07-01 03:05:36.7910   \n",
       "4          1676  2018-07-01 03:24:27.4350  2018-07-01 03:52:23.7760   \n",
       "\n",
       "   start station id start station name  start station latitude  \\\n",
       "0              72.0   W 52 St & 11 Ave               40.767272   \n",
       "1              72.0   W 52 St & 11 Ave               40.767272   \n",
       "2              72.0   W 52 St & 11 Ave               40.767272   \n",
       "3              72.0   W 52 St & 11 Ave               40.767272   \n",
       "4              72.0   W 52 St & 11 Ave               40.767272   \n",
       "\n",
       "   start station longitude  end station id    end station name  \\\n",
       "0               -73.993929          3236.0  W 42 St & Dyer Ave   \n",
       "1               -73.993929           529.0     W 42 St & 8 Ave   \n",
       "2               -73.993929           453.0     W 22 St & 8 Ave   \n",
       "3               -73.993929           465.0  Broadway & W 41 St   \n",
       "4               -73.993929          3425.0    2 Ave & E 104 St   \n",
       "\n",
       "   end station latitude  end station longitude  bikeid    usertype  \\\n",
       "0             40.758985             -73.993800   16583  Subscriber   \n",
       "1             40.757570             -73.990985   31481  Subscriber   \n",
       "2             40.744751             -73.999154   25004  Subscriber   \n",
       "3             40.755136             -73.986580   25867  Subscriber   \n",
       "4             40.789210             -73.943708   31351  Subscriber   \n",
       "\n",
       "   birth year  gender  \n",
       "0        1981    Male  \n",
       "1        1988    Male  \n",
       "2        1982  Female  \n",
       "3        1986    Male  \n",
       "4        1992    Male  "
      ]
     },
     "execution_count": 42,
     "metadata": {},
     "output_type": "execute_result"
    }
   ],
   "source": [
    "df.head()"
   ]
  },
  {
   "cell_type": "code",
   "execution_count": 43,
   "metadata": {},
   "outputs": [],
   "source": [
    "df = df.drop(df[df['birth year'] < 1925].index)"
   ]
  },
  {
   "cell_type": "code",
   "execution_count": 45,
   "metadata": {},
   "outputs": [
    {
     "data": {
      "text/plain": [
       "1969    1303484\n",
       "1989     536967\n",
       "1990     536082\n",
       "1988     518826\n",
       "1991     510603\n",
       "1992     494640\n",
       "1987     463912\n",
       "1993     458424\n",
       "1986     435058\n",
       "1985     420936\n",
       "1994     395981\n",
       "1984     385065\n",
       "1983     348870\n",
       "1982     333742\n",
       "1995     321568\n",
       "1981     304408\n",
       "1980     284231\n",
       "1979     258717\n",
       "1978     225865\n",
       "1977     214842\n",
       "1976     212954\n",
       "1975     205039\n",
       "1996     203213\n",
       "1970     198213\n",
       "1974     189690\n",
       "1971     185471\n",
       "1973     183214\n",
       "1972     180038\n",
       "1968     166484\n",
       "1967     164839\n",
       "         ...   \n",
       "2001      32772\n",
       "1952      28997\n",
       "1951      27644\n",
       "1950      20527\n",
       "1949      17339\n",
       "1947      15614\n",
       "1948      15611\n",
       "2002      13447\n",
       "1946      10756\n",
       "1945       6826\n",
       "1942       5315\n",
       "1944       5193\n",
       "1943       4685\n",
       "2003       4478\n",
       "1941       4016\n",
       "1940       3196\n",
       "1937       1593\n",
       "1939       1213\n",
       "1936       1161\n",
       "1935        979\n",
       "1932        872\n",
       "1938        826\n",
       "1934        427\n",
       "1930        413\n",
       "1933        340\n",
       "1928        171\n",
       "1931        154\n",
       "1929         82\n",
       "1926         17\n",
       "1927          9\n",
       "Name: birth year, Length: 78, dtype: int64"
      ]
     },
     "execution_count": 45,
     "metadata": {},
     "output_type": "execute_result"
    }
   ],
   "source": [
    "df['birth year'].value_counts()"
   ]
  },
  {
   "cell_type": "code",
   "execution_count": 46,
   "metadata": {},
   "outputs": [],
   "source": [
    "df.to_csv(\"2018_2019_Jul_Sep.csv\",encoding='utf-8')"
   ]
  },
  {
   "cell_type": "code",
   "execution_count": null,
   "metadata": {},
   "outputs": [],
   "source": []
  }
 ],
 "metadata": {
  "kernelspec": {
   "display_name": "Python 3",
   "language": "python",
   "name": "python3"
  },
  "language_info": {
   "codemirror_mode": {
    "name": "ipython",
    "version": 3
   },
   "file_extension": ".py",
   "mimetype": "text/x-python",
   "name": "python",
   "nbconvert_exporter": "python",
   "pygments_lexer": "ipython3",
   "version": "3.7.1"
  }
 },
 "nbformat": 4,
 "nbformat_minor": 2
}
